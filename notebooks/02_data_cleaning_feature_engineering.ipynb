{
 "cells": [
  {
   "cell_type": "markdown",
   "id": "c06fa315",
   "metadata": {},
   "source": [
    "## 📘 Introduction  \n",
    "In this notebook, we’ll clean and prepare the **AAPL stock data** for modeling.  \n",
    "We’ll handle missing values, check data consistency, and ensure the dataset is ready for analysis."
   ]
  },
  {
   "cell_type": "markdown",
   "id": "de2d101d",
   "metadata": {},
   "source": [
    "## ⚙️ Import Libraries and Load Data  \n",
    "We’ll import the necessary libraries and reload the dataset from Yahoo Finance."
   ]
  },
  {
   "cell_type": "code",
   "execution_count": 1,
   "id": "3c88de61",
   "metadata": {},
   "outputs": [
    {
     "name": "stderr",
     "output_type": "stream",
     "text": [
      "[*********************100%***********************]  1 of 1 completed\n"
     ]
    },
    {
     "data": {
      "text/html": [
       "<div>\n",
       "<style scoped>\n",
       "    .dataframe tbody tr th:only-of-type {\n",
       "        vertical-align: middle;\n",
       "    }\n",
       "\n",
       "    .dataframe tbody tr th {\n",
       "        vertical-align: top;\n",
       "    }\n",
       "\n",
       "    .dataframe thead tr th {\n",
       "        text-align: left;\n",
       "    }\n",
       "\n",
       "    .dataframe thead tr:last-of-type th {\n",
       "        text-align: right;\n",
       "    }\n",
       "</style>\n",
       "<table border=\"1\" class=\"dataframe\">\n",
       "  <thead>\n",
       "    <tr>\n",
       "      <th>Price</th>\n",
       "      <th>Close</th>\n",
       "      <th>High</th>\n",
       "      <th>Low</th>\n",
       "      <th>Open</th>\n",
       "      <th>Volume</th>\n",
       "    </tr>\n",
       "    <tr>\n",
       "      <th>Ticker</th>\n",
       "      <th>AAPL</th>\n",
       "      <th>AAPL</th>\n",
       "      <th>AAPL</th>\n",
       "      <th>AAPL</th>\n",
       "      <th>AAPL</th>\n",
       "    </tr>\n",
       "    <tr>\n",
       "      <th>Date</th>\n",
       "      <th></th>\n",
       "      <th></th>\n",
       "      <th></th>\n",
       "      <th></th>\n",
       "      <th></th>\n",
       "    </tr>\n",
       "  </thead>\n",
       "  <tbody>\n",
       "    <tr>\n",
       "      <th>2018-01-02</th>\n",
       "      <td>40.380993</td>\n",
       "      <td>40.390372</td>\n",
       "      <td>39.677736</td>\n",
       "      <td>39.888715</td>\n",
       "      <td>102223600</td>\n",
       "    </tr>\n",
       "    <tr>\n",
       "      <th>2018-01-03</th>\n",
       "      <td>40.373962</td>\n",
       "      <td>40.917816</td>\n",
       "      <td>40.310672</td>\n",
       "      <td>40.444289</td>\n",
       "      <td>118071600</td>\n",
       "    </tr>\n",
       "    <tr>\n",
       "      <th>2018-01-04</th>\n",
       "      <td>40.561504</td>\n",
       "      <td>40.664649</td>\n",
       "      <td>40.338807</td>\n",
       "      <td>40.446638</td>\n",
       "      <td>89738400</td>\n",
       "    </tr>\n",
       "    <tr>\n",
       "      <th>2018-01-05</th>\n",
       "      <td>41.023315</td>\n",
       "      <td>41.110049</td>\n",
       "      <td>40.566199</td>\n",
       "      <td>40.657622</td>\n",
       "      <td>94640000</td>\n",
       "    </tr>\n",
       "    <tr>\n",
       "      <th>2018-01-08</th>\n",
       "      <td>40.870941</td>\n",
       "      <td>41.166308</td>\n",
       "      <td>40.772482</td>\n",
       "      <td>40.870941</td>\n",
       "      <td>82271200</td>\n",
       "    </tr>\n",
       "  </tbody>\n",
       "</table>\n",
       "</div>"
      ],
      "text/plain": [
       "Price           Close       High        Low       Open     Volume\n",
       "Ticker           AAPL       AAPL       AAPL       AAPL       AAPL\n",
       "Date                                                             \n",
       "2018-01-02  40.380993  40.390372  39.677736  39.888715  102223600\n",
       "2018-01-03  40.373962  40.917816  40.310672  40.444289  118071600\n",
       "2018-01-04  40.561504  40.664649  40.338807  40.446638   89738400\n",
       "2018-01-05  41.023315  41.110049  40.566199  40.657622   94640000\n",
       "2018-01-08  40.870941  41.166308  40.772482  40.870941   82271200"
      ]
     },
     "execution_count": 1,
     "metadata": {},
     "output_type": "execute_result"
    }
   ],
   "source": [
    "import yfinance as yf\n",
    "import pandas as pd\n",
    "import matplotlib.pyplot as plt\n",
    "import warnings\n",
    "\n",
    "warnings.filterwarnings(\"ignore\")\n",
    "\n",
    "# Load data\n",
    "ticker = \"AAPL\"\n",
    "data = yf.download(ticker, start=\"2018-01-01\", end=\"2025-01-01\")\n",
    "data.head()"
   ]
  },
  {
   "cell_type": "markdown",
   "id": "b9ac4fb1",
   "metadata": {},
   "source": [
    "## 🔍 Check for Missing Values  \n",
    "We’ll inspect the dataset for any missing or null entries."
   ]
  },
  {
   "cell_type": "code",
   "execution_count": 2,
   "id": "c1e6bd29",
   "metadata": {},
   "outputs": [
    {
     "name": "stdout",
     "output_type": "stream",
     "text": [
      "Missing values per column:\n",
      " Price   Ticker\n",
      "Close   AAPL      0\n",
      "High    AAPL      0\n",
      "Low     AAPL      0\n",
      "Open    AAPL      0\n",
      "Volume  AAPL      0\n",
      "dtype: int64\n"
     ]
    }
   ],
   "source": [
    "missing_values = data.isnull().sum()\n",
    "print(\"Missing values per column:\\n\", missing_values)"
   ]
  },
  {
   "cell_type": "markdown",
   "id": "d84433c9",
   "metadata": {},
   "source": [
    "## 🧹 Handle Missing Values  \n",
    "If missing values exist, we can fill them using forward-fill or backward-fill methods."
   ]
  },
  {
   "cell_type": "code",
   "execution_count": 3,
   "id": "6b410084",
   "metadata": {},
   "outputs": [
    {
     "name": "stdout",
     "output_type": "stream",
     "text": [
      "✅ Missing values handled successfully!\n"
     ]
    }
   ],
   "source": [
    "data = data.ffill().bfill()\n",
    "print(\"✅ Missing values handled successfully!\")"
   ]
  },
  {
   "cell_type": "markdown",
   "id": "7c4bbf03",
   "metadata": {},
   "source": [
    "## 📅 Check Index and Data Types  \n",
    "Ensure the index is datetime and columns have correct data types."
   ]
  },
  {
   "cell_type": "code",
   "execution_count": 4,
   "id": "fcb5be52",
   "metadata": {},
   "outputs": [
    {
     "name": "stdout",
     "output_type": "stream",
     "text": [
      "<class 'pandas.core.frame.DataFrame'>\n",
      "DatetimeIndex: 1761 entries, 2018-01-02 to 2024-12-31\n",
      "Data columns (total 5 columns):\n",
      " #   Column          Non-Null Count  Dtype  \n",
      "---  ------          --------------  -----  \n",
      " 0   (Close, AAPL)   1761 non-null   float64\n",
      " 1   (High, AAPL)    1761 non-null   float64\n",
      " 2   (Low, AAPL)     1761 non-null   float64\n",
      " 3   (Open, AAPL)    1761 non-null   float64\n",
      " 4   (Volume, AAPL)  1761 non-null   int64  \n",
      "dtypes: float64(4), int64(1)\n",
      "memory usage: 82.5 KB\n",
      "None\n"
     ]
    }
   ],
   "source": [
    "data.index = pd.to_datetime(data.index)\n",
    "print(data.info())"
   ]
  },
  {
   "cell_type": "markdown",
   "id": "e4cc757f",
   "metadata": {},
   "source": [
    "## 🧾 Summary  \n",
    "- All missing data handled.  \n",
    "- Index is properly set as datetime.  \n",
    "- Data is clean and ready for modeling in the next step."
   ]
  }
 ],
 "metadata": {
  "kernelspec": {
   "display_name": "venv",
   "language": "python",
   "name": "python3"
  },
  "language_info": {
   "codemirror_mode": {
    "name": "ipython",
    "version": 3
   },
   "file_extension": ".py",
   "mimetype": "text/x-python",
   "name": "python",
   "nbconvert_exporter": "python",
   "pygments_lexer": "ipython3",
   "version": "3.13.3"
  }
 },
 "nbformat": 4,
 "nbformat_minor": 5
}
