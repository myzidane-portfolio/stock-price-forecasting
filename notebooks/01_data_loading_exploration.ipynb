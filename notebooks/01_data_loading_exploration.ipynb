{
 "cells": [
  {
   "cell_type": "markdown",
   "id": "09d309b4",
   "metadata": {},
   "source": [
    "## 📘 Introduction  \n",
    "In this notebook, we will download and explore **Apple Inc. (AAPL)** stock price data directly from **Yahoo Finance**.  \n",
    "We’ll perform basic data inspection and visualization to understand overall trends before moving into forecasting in later notebooks."
   ]
  },
  {
   "cell_type": "markdown",
   "id": "6270cbb5",
   "metadata": {},
   "source": [
    "## ⚙️ Import Required Libraries  \n",
    "We’ll import the main Python libraries used for data analysis and visualization.  \n",
    "To keep the output clean, we’ll also suppress future warnings."
   ]
  },
  {
   "cell_type": "code",
   "execution_count": 1,
   "id": "96059db6",
   "metadata": {},
   "outputs": [],
   "source": [
    "import yfinance as yf\n",
    "import pandas as pd\n",
    "import matplotlib.pyplot as plt\n",
    "import warnings\n",
    "\n",
    "# Suppress warnings for cleaner notebook output\n",
    "warnings.filterwarnings(\"ignore\")"
   ]
  },
  {
   "cell_type": "markdown",
   "id": "2cf119d7",
   "metadata": {},
   "source": [
    "## 📥 Download Historical Stock Data  \n",
    "Here, we’ll fetch historical daily stock data for **AAPL** from 2018 until 2025 using the `yfinance` API."
   ]
  },
  {
   "cell_type": "code",
   "execution_count": 2,
   "id": "13c0fae0",
   "metadata": {},
   "outputs": [
    {
     "name": "stderr",
     "output_type": "stream",
     "text": [
      "[*********************100%***********************]  1 of 1 completed"
     ]
    },
    {
     "name": "stdout",
     "output_type": "stream",
     "text": [
      "✅ Data downloaded successfully!\n",
      "Data shape: (1761, 5)\n"
     ]
    },
    {
     "name": "stderr",
     "output_type": "stream",
     "text": [
      "\n"
     ]
    },
    {
     "data": {
      "text/html": [
       "<div>\n",
       "<style scoped>\n",
       "    .dataframe tbody tr th:only-of-type {\n",
       "        vertical-align: middle;\n",
       "    }\n",
       "\n",
       "    .dataframe tbody tr th {\n",
       "        vertical-align: top;\n",
       "    }\n",
       "\n",
       "    .dataframe thead tr th {\n",
       "        text-align: left;\n",
       "    }\n",
       "\n",
       "    .dataframe thead tr:last-of-type th {\n",
       "        text-align: right;\n",
       "    }\n",
       "</style>\n",
       "<table border=\"1\" class=\"dataframe\">\n",
       "  <thead>\n",
       "    <tr>\n",
       "      <th>Price</th>\n",
       "      <th>Close</th>\n",
       "      <th>High</th>\n",
       "      <th>Low</th>\n",
       "      <th>Open</th>\n",
       "      <th>Volume</th>\n",
       "    </tr>\n",
       "    <tr>\n",
       "      <th>Ticker</th>\n",
       "      <th>AAPL</th>\n",
       "      <th>AAPL</th>\n",
       "      <th>AAPL</th>\n",
       "      <th>AAPL</th>\n",
       "      <th>AAPL</th>\n",
       "    </tr>\n",
       "    <tr>\n",
       "      <th>Date</th>\n",
       "      <th></th>\n",
       "      <th></th>\n",
       "      <th></th>\n",
       "      <th></th>\n",
       "      <th></th>\n",
       "    </tr>\n",
       "  </thead>\n",
       "  <tbody>\n",
       "    <tr>\n",
       "      <th>2018-01-02</th>\n",
       "      <td>40.381004</td>\n",
       "      <td>40.390383</td>\n",
       "      <td>39.677748</td>\n",
       "      <td>39.888727</td>\n",
       "      <td>102223600</td>\n",
       "    </tr>\n",
       "    <tr>\n",
       "      <th>2018-01-03</th>\n",
       "      <td>40.373970</td>\n",
       "      <td>40.917824</td>\n",
       "      <td>40.310679</td>\n",
       "      <td>40.444296</td>\n",
       "      <td>118071600</td>\n",
       "    </tr>\n",
       "    <tr>\n",
       "      <th>2018-01-04</th>\n",
       "      <td>40.561493</td>\n",
       "      <td>40.664638</td>\n",
       "      <td>40.338796</td>\n",
       "      <td>40.446626</td>\n",
       "      <td>89738400</td>\n",
       "    </tr>\n",
       "    <tr>\n",
       "      <th>2018-01-05</th>\n",
       "      <td>41.023304</td>\n",
       "      <td>41.110038</td>\n",
       "      <td>40.566188</td>\n",
       "      <td>40.657611</td>\n",
       "      <td>94640000</td>\n",
       "    </tr>\n",
       "    <tr>\n",
       "      <th>2018-01-08</th>\n",
       "      <td>40.870930</td>\n",
       "      <td>41.166296</td>\n",
       "      <td>40.772471</td>\n",
       "      <td>40.870930</td>\n",
       "      <td>82271200</td>\n",
       "    </tr>\n",
       "  </tbody>\n",
       "</table>\n",
       "</div>"
      ],
      "text/plain": [
       "Price           Close       High        Low       Open     Volume\n",
       "Ticker           AAPL       AAPL       AAPL       AAPL       AAPL\n",
       "Date                                                             \n",
       "2018-01-02  40.381004  40.390383  39.677748  39.888727  102223600\n",
       "2018-01-03  40.373970  40.917824  40.310679  40.444296  118071600\n",
       "2018-01-04  40.561493  40.664638  40.338796  40.446626   89738400\n",
       "2018-01-05  41.023304  41.110038  40.566188  40.657611   94640000\n",
       "2018-01-08  40.870930  41.166296  40.772471  40.870930   82271200"
      ]
     },
     "execution_count": 2,
     "metadata": {},
     "output_type": "execute_result"
    }
   ],
   "source": [
    "ticker = \"AAPL\"\n",
    "data = yf.download(ticker, start=\"2018-01-01\", end=\"2025-01-01\")\n",
    "\n",
    "print(\"✅ Data downloaded successfully!\")\n",
    "print(\"Data shape:\", data.shape)\n",
    "data.head()"
   ]
  },
  {
   "cell_type": "markdown",
   "id": "e4f48aba",
   "metadata": {},
   "source": [
    "## 🔍 Explore the Dataset  \n",
    "Let’s inspect the dataset’s structure, data types, and summary statistics to ensure that it was loaded correctly."
   ]
  },
  {
   "cell_type": "code",
   "execution_count": 3,
   "id": "41b2f633",
   "metadata": {},
   "outputs": [
    {
     "name": "stdout",
     "output_type": "stream",
     "text": [
      "<class 'pandas.core.frame.DataFrame'>\n",
      "DatetimeIndex: 1761 entries, 2018-01-02 to 2024-12-31\n",
      "Data columns (total 5 columns):\n",
      " #   Column          Non-Null Count  Dtype  \n",
      "---  ------          --------------  -----  \n",
      " 0   (Close, AAPL)   1761 non-null   float64\n",
      " 1   (High, AAPL)    1761 non-null   float64\n",
      " 2   (Low, AAPL)     1761 non-null   float64\n",
      " 3   (Open, AAPL)    1761 non-null   float64\n",
      " 4   (Volume, AAPL)  1761 non-null   int64  \n",
      "dtypes: float64(4), int64(1)\n",
      "memory usage: 82.5 KB\n"
     ]
    },
    {
     "data": {
      "text/html": [
       "<div>\n",
       "<style scoped>\n",
       "    .dataframe tbody tr th:only-of-type {\n",
       "        vertical-align: middle;\n",
       "    }\n",
       "\n",
       "    .dataframe tbody tr th {\n",
       "        vertical-align: top;\n",
       "    }\n",
       "\n",
       "    .dataframe thead tr th {\n",
       "        text-align: left;\n",
       "    }\n",
       "</style>\n",
       "<table border=\"1\" class=\"dataframe\">\n",
       "  <thead>\n",
       "    <tr>\n",
       "      <th>Price</th>\n",
       "      <th>Close</th>\n",
       "      <th>High</th>\n",
       "      <th>Low</th>\n",
       "      <th>Open</th>\n",
       "      <th>Volume</th>\n",
       "    </tr>\n",
       "    <tr>\n",
       "      <th>Ticker</th>\n",
       "      <th>AAPL</th>\n",
       "      <th>AAPL</th>\n",
       "      <th>AAPL</th>\n",
       "      <th>AAPL</th>\n",
       "      <th>AAPL</th>\n",
       "    </tr>\n",
       "  </thead>\n",
       "  <tbody>\n",
       "    <tr>\n",
       "      <th>count</th>\n",
       "      <td>1761.000000</td>\n",
       "      <td>1761.000000</td>\n",
       "      <td>1761.000000</td>\n",
       "      <td>1761.000000</td>\n",
       "      <td>1.761000e+03</td>\n",
       "    </tr>\n",
       "    <tr>\n",
       "      <th>mean</th>\n",
       "      <td>121.968482</td>\n",
       "      <td>123.178188</td>\n",
       "      <td>120.621658</td>\n",
       "      <td>121.846627</td>\n",
       "      <td>1.001417e+08</td>\n",
       "    </tr>\n",
       "    <tr>\n",
       "      <th>std</th>\n",
       "      <td>59.175667</td>\n",
       "      <td>59.645820</td>\n",
       "      <td>58.613171</td>\n",
       "      <td>59.103899</td>\n",
       "      <td>5.521309e+07</td>\n",
       "    </tr>\n",
       "    <tr>\n",
       "      <th>min</th>\n",
       "      <td>33.832439</td>\n",
       "      <td>34.672361</td>\n",
       "      <td>33.787231</td>\n",
       "      <td>34.258347</td>\n",
       "      <td>2.323470e+07</td>\n",
       "    </tr>\n",
       "    <tr>\n",
       "      <th>25%</th>\n",
       "      <td>54.146648</td>\n",
       "      <td>54.849637</td>\n",
       "      <td>53.760167</td>\n",
       "      <td>54.331938</td>\n",
       "      <td>6.309290e+07</td>\n",
       "    </tr>\n",
       "    <tr>\n",
       "      <th>50%</th>\n",
       "      <td>131.554688</td>\n",
       "      <td>133.043673</td>\n",
       "      <td>130.189052</td>\n",
       "      <td>132.018152</td>\n",
       "      <td>8.671200e+07</td>\n",
       "    </tr>\n",
       "    <tr>\n",
       "      <th>75%</th>\n",
       "      <td>168.815582</td>\n",
       "      <td>170.374438</td>\n",
       "      <td>167.378036</td>\n",
       "      <td>168.628156</td>\n",
       "      <td>1.214346e+08</td>\n",
       "    </tr>\n",
       "    <tr>\n",
       "      <th>max</th>\n",
       "      <td>258.103729</td>\n",
       "      <td>259.179926</td>\n",
       "      <td>256.718662</td>\n",
       "      <td>257.276679</td>\n",
       "      <td>4.265100e+08</td>\n",
       "    </tr>\n",
       "  </tbody>\n",
       "</table>\n",
       "</div>"
      ],
      "text/plain": [
       "Price         Close         High          Low         Open        Volume\n",
       "Ticker         AAPL         AAPL         AAPL         AAPL          AAPL\n",
       "count   1761.000000  1761.000000  1761.000000  1761.000000  1.761000e+03\n",
       "mean     121.968482   123.178188   120.621658   121.846627  1.001417e+08\n",
       "std       59.175667    59.645820    58.613171    59.103899  5.521309e+07\n",
       "min       33.832439    34.672361    33.787231    34.258347  2.323470e+07\n",
       "25%       54.146648    54.849637    53.760167    54.331938  6.309290e+07\n",
       "50%      131.554688   133.043673   130.189052   132.018152  8.671200e+07\n",
       "75%      168.815582   170.374438   167.378036   168.628156  1.214346e+08\n",
       "max      258.103729   259.179926   256.718662   257.276679  4.265100e+08"
      ]
     },
     "execution_count": 3,
     "metadata": {},
     "output_type": "execute_result"
    }
   ],
   "source": [
    "data.info()\n",
    "data.describe()"
   ]
  },
  {
   "cell_type": "markdown",
   "id": "650b6e41",
   "metadata": {},
   "source": [
    "## 📊 Visualize Closing Prices  \n",
    "We’ll create a simple line plot of **closing prices** over time to get an overview of the stock’s performance trend."
   ]
  },
  {
   "cell_type": "code",
   "execution_count": 4,
   "id": "d0203bd8",
   "metadata": {},
   "outputs": [
    {
     "data": {
      "image/png": "[encoded data removed]",
      "text/plain": [
       "<Figure size 1000x500 with 1 Axes>"
      ]
     },
     "metadata": {},
     "output_type": "display_data"
    }
   ],
   "source": [
    "plt.figure(figsize=(10,5))\n",
    "plt.plot(data['Close'], label='AAPL Close Price', color='blue')\n",
    "plt.title('AAPL Stock Closing Prices (2018–2025)')\n",
    "plt.xlabel('Date')\n",
    "plt.ylabel('Price (USD)')\n",
    "plt.legend()\n",
    "plt.show()"
   ]
  },
  {
   "cell_type": "markdown",
   "id": "5784271e",
   "metadata": {},
   "source": [
    "## 🧾 Summary  \n",
    "- The dataset contains **daily stock price data** for Apple Inc.  \n",
    "- Columns include: *Open, High, Low, Close, and Volume.*  \n",
    "- Data quality is good and ready for modeling in the next notebook."
   ]
  }
 ],
 "metadata": {
  "kernelspec": {
   "display_name": "venv",
   "language": "python",
   "name": "python3"
  },
  "language_info": {
   "codemirror_mode": {
    "name": "ipython",
    "version": 3
   },
   "file_extension": ".py",
   "mimetype": "text/x-python",
   "name": "python",
   "nbconvert_exporter": "python",
   "pygments_lexer": "ipython3",
   "version": "3.13.3"
  }
 },
 "nbformat": 4,
 "nbformat_minor": 5
}
