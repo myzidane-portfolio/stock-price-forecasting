{
 "cells": [
  {
   "cell_type": "markdown",
   "id": "262432e9",
   "metadata": {},
   "source": [
    "## 🧠 Introduce\n",
    "In this notebook, we will **evaluate and compare** the model’s predicted stock prices with the actual data.  \n",
    "This version is **independent** — it loads and forecasts data directly inside this notebook (no dependency on Notebook 04)."
   ]
  },
  {
   "cell_type": "code",
   "execution_count": 1,
   "id": "23588f81",
   "metadata": {},
   "outputs": [],
   "source": [
    "# ✅ Import required libraries\n",
    "import yfinance as yf\n",
    "import pandas as pd\n",
    "import numpy as np\n",
    "import matplotlib.pyplot as plt\n",
    "from statsmodels.tsa.arima.model import ARIMA\n",
    "from sklearn.metrics import mean_squared_error\n",
    "import warnings\n",
    "\n",
    "# ✅ Suppress warnings for cleaner output\n",
    "warnings.filterwarnings(\"ignore\")"
   ]
  },
  {
   "cell_type": "markdown",
   "id": "9640fba6",
   "metadata": {},
   "source": [
    "## 📥 Load and Prepare Data\n",
    "We will download Apple Inc. (AAPL) stock data from Yahoo Finance and prepare it for forecasting."
   ]
  },
  {
   "cell_type": "code",
   "execution_count": 2,
   "id": "b1310999",
   "metadata": {},
   "outputs": [
    {
     "name": "stderr",
     "output_type": "stream",
     "text": [
      "[*********************100%***********************]  1 of 1 completed"
     ]
    },
    {
     "name": "stdout",
     "output_type": "stream",
     "text": [
      "✅ Data loaded successfully: (1760, 1)\n"
     ]
    },
    {
     "name": "stderr",
     "output_type": "stream",
     "text": [
      "\n"
     ]
    },
    {
     "data": {
      "text/html": [
       "<div>\n",
       "<style scoped>\n",
       "    .dataframe tbody tr th:only-of-type {\n",
       "        vertical-align: middle;\n",
       "    }\n",
       "\n",
       "    .dataframe tbody tr th {\n",
       "        vertical-align: top;\n",
       "    }\n",
       "\n",
       "    .dataframe thead tr th {\n",
       "        text-align: left;\n",
       "    }\n",
       "\n",
       "    .dataframe thead tr:last-of-type th {\n",
       "        text-align: right;\n",
       "    }\n",
       "</style>\n",
       "<table border=\"1\" class=\"dataframe\">\n",
       "  <thead>\n",
       "    <tr>\n",
       "      <th>Price</th>\n",
       "      <th>Close</th>\n",
       "    </tr>\n",
       "    <tr>\n",
       "      <th>Ticker</th>\n",
       "      <th>AAPL</th>\n",
       "    </tr>\n",
       "    <tr>\n",
       "      <th>Date</th>\n",
       "      <th></th>\n",
       "    </tr>\n",
       "  </thead>\n",
       "  <tbody>\n",
       "    <tr>\n",
       "      <th>2024-12-23</th>\n",
       "      <td>254.367020</td>\n",
       "    </tr>\n",
       "    <tr>\n",
       "      <th>2024-12-24</th>\n",
       "      <td>257.286682</td>\n",
       "    </tr>\n",
       "    <tr>\n",
       "      <th>2024-12-26</th>\n",
       "      <td>258.103729</td>\n",
       "    </tr>\n",
       "    <tr>\n",
       "      <th>2024-12-27</th>\n",
       "      <td>254.685867</td>\n",
       "    </tr>\n",
       "    <tr>\n",
       "      <th>2024-12-30</th>\n",
       "      <td>251.307877</td>\n",
       "    </tr>\n",
       "  </tbody>\n",
       "</table>\n",
       "</div>"
      ],
      "text/plain": [
       "Price            Close\n",
       "Ticker            AAPL\n",
       "Date                  \n",
       "2024-12-23  254.367020\n",
       "2024-12-24  257.286682\n",
       "2024-12-26  258.103729\n",
       "2024-12-27  254.685867\n",
       "2024-12-30  251.307877"
      ]
     },
     "execution_count": 2,
     "metadata": {},
     "output_type": "execute_result"
    }
   ],
   "source": [
    "# ✅ Download stock data\n",
    "ticker = \"AAPL\"\n",
    "data = yf.download(ticker, start=\"2018-01-01\", end=\"2024-12-31\")\n",
    "\n",
    "# ✅ Use only the closing prices\n",
    "data = data[[\"Close\"]].dropna()\n",
    "print(\"✅ Data loaded successfully:\", data.shape)\n",
    "data.tail()"
   ]
  },
  {
   "cell_type": "markdown",
   "id": "4db4b8ba",
   "metadata": {},
   "source": [
    "## 🧩 Train-Test Split\n",
    "Let’s split the data into training and testing sets for model evaluation."
   ]
  },
  {
   "cell_type": "code",
   "execution_count": 3,
   "id": "10043bf5",
   "metadata": {},
   "outputs": [
    {
     "name": "stdout",
     "output_type": "stream",
     "text": [
      "Train samples: 1408\n",
      "Test samples: 352\n"
     ]
    }
   ],
   "source": [
    "# ✅ 80% training, 20% testing\n",
    "split_ratio = 0.8\n",
    "split_index = int(len(data) * split_ratio)\n",
    "\n",
    "train = data.iloc[:split_index]\n",
    "test = data.iloc[split_index:]\n",
    "\n",
    "print(f\"Train samples: {len(train)}\")\n",
    "print(f\"Test samples: {len(test)}\")"
   ]
  },
  {
   "cell_type": "markdown",
   "id": "0f75f177",
   "metadata": {},
   "source": [
    "## 🔮 Build and Fit ARIMA Model\n",
    "Now, we’ll fit a simple **ARIMA(5,1,0)** model using the training data."
   ]
  },
  {
   "cell_type": "code",
   "execution_count": 4,
   "id": "e90b5b3b",
   "metadata": {},
   "outputs": [
    {
     "name": "stdout",
     "output_type": "stream",
     "text": [
      "✅ Model fitted successfully!\n"
     ]
    }
   ],
   "source": [
    "# ✅ Fit ARIMA model\n",
    "model = ARIMA(train[\"Close\"], order=(5, 1, 0))\n",
    "fitted_model = model.fit()\n",
    "\n",
    "print(\"✅ Model fitted successfully!\")"
   ]
  },
  {
   "cell_type": "markdown",
   "id": "6b27e34d",
   "metadata": {},
   "source": [
    "## 📈 Forecast Future Prices\n",
    "Next, we’ll forecast prices for the same number of samples as the test set."
   ]
  },
  {
   "cell_type": "code",
   "execution_count": 5,
   "id": "19983ec4",
   "metadata": {},
   "outputs": [
    {
     "name": "stdout",
     "output_type": "stream",
     "text": [
      "✅ Forecast generated.\n"
     ]
    },
    {
     "data": {
      "text/plain": [
       "Date\n",
       "2023-08-08    177.291394\n",
       "2023-08-09    177.443800\n",
       "2023-08-10    177.520197\n",
       "2023-08-11    177.167342\n",
       "2023-08-14    177.049413\n",
       "Name: Predicted, dtype: float64"
      ]
     },
     "execution_count": 5,
     "metadata": {},
     "output_type": "execute_result"
    }
   ],
   "source": [
    "# ✅ Generate forecast\n",
    "forecast = fitted_model.forecast(steps=len(test))\n",
    "forecast.index = test.index  # align with test index\n",
    "forecast_series = pd.Series(forecast, name=\"Predicted\")\n",
    "\n",
    "print(\"✅ Forecast generated.\")\n",
    "forecast_series.head()"
   ]
  },
  {
   "cell_type": "markdown",
   "id": "2cb668aa",
   "metadata": {},
   "source": [
    "## 🧮 Evaluate Model Performance\n",
    "We’ll compare predicted and actual values using:\n",
    "- **MSE (Mean Squared Error)**\n",
    "- **RMSE (Root Mean Squared Error)**"
   ]
  },
  {
   "cell_type": "code",
   "execution_count": 6,
   "id": "30407145",
   "metadata": {},
   "outputs": [
    {
     "name": "stdout",
     "output_type": "stream",
     "text": [
      "📊 Mean Squared Error (MSE): 1076.6950\n",
      "📈 Root Mean Squared Error (RMSE): 32.8130\n"
     ]
    }
   ],
   "source": [
    "# ✅ Build evaluation DataFrame (fixed 1D shape)\n",
    "actual = test[\"Close\"].squeeze()                     # ensure 1D\n",
    "predicted = pd.Series(forecast_series).squeeze()     # ensure 1D\n",
    "\n",
    "# ✅ Align both to same length\n",
    "min_len = min(len(actual), len(predicted))\n",
    "actual = actual.iloc[:min_len]\n",
    "predicted = predicted.iloc[:min_len]\n",
    "\n",
    "# ✅ Build DataFrame safely\n",
    "df_eval = pd.DataFrame({\n",
    "    \"Actual\": actual.values.flatten(),\n",
    "    \"Predicted\": predicted.values.flatten()\n",
    "}).dropna()\n",
    "\n",
    "# ✅ Compute metrics\n",
    "if not df_eval.empty:\n",
    "    mse = mean_squared_error(df_eval[\"Actual\"], df_eval[\"Predicted\"])\n",
    "    rmse = np.sqrt(mse)\n",
    "    print(f\"📊 Mean Squared Error (MSE): {mse:.4f}\")\n",
    "    print(f\"📈 Root Mean Squared Error (RMSE): {rmse:.4f}\")\n",
    "else:\n",
    "    print(\"⚠️ No valid samples available for evaluation.\")"
   ]
  },
  {
   "cell_type": "markdown",
   "id": "63980b09",
   "metadata": {},
   "source": [
    "## 📊 Visual Comparison\n",
    "Let’s visualize **Actual vs Predicted** stock prices to assess performance visually."
   ]
  },
  {
   "cell_type": "code",
   "execution_count": 7,
   "id": "5463826d",
   "metadata": {},
   "outputs": [
    {
     "data": {
      "image/png": "[encoded data removed]",
      "text/plain": [
       "<Figure size 1200x600 with 1 Axes>"
      ]
     },
     "metadata": {},
     "output_type": "display_data"
    }
   ],
   "source": [
    "# ✅ Plot comparison\n",
    "plt.figure(figsize=(12,6))\n",
    "plt.plot(df_eval[\"Actual\"].values, label=\"Actual\", color=\"blue\")\n",
    "plt.plot(df_eval[\"Predicted\"].values, label=\"Predicted\", color=\"red\")\n",
    "plt.title(\"Actual vs Predicted Stock Prices (AAPL)\")\n",
    "plt.xlabel(\"Time\")\n",
    "plt.ylabel(\"Price (USD)\")\n",
    "plt.legend()\n",
    "plt.show()"
   ]
  },
  {
   "cell_type": "markdown",
   "id": "eae2f887",
   "metadata": {},
   "source": [
    "## 🏁 Conclusion\n",
    "This independent notebook successfully:\n",
    "- Downloaded fresh AAPL stock data  \n",
    "- Trained an ARIMA forecasting model  \n",
    "- Evaluated predictions using MSE & RMSE  \n",
    "- Visualized the comparison between actual and predicted prices  \n",
    "\n",
    "✅ No dependencies from previous notebooks  \n",
    "✅ Ready to run on any environment  \n",
    "✅ Clean, warning-free, and reproducible  "
   ]
  }
 ],
 "metadata": {
  "kernelspec": {
   "display_name": "venv",
   "language": "python",
   "name": "python3"
  },
  "language_info": {
   "codemirror_mode": {
    "name": "ipython",
    "version": 3
   },
   "file_extension": ".py",
   "mimetype": "text/x-python",
   "name": "python",
   "nbconvert_exporter": "python",
   "pygments_lexer": "ipython3",
   "version": "3.13.3"
  }
 },
 "nbformat": 4,
 "nbformat_minor": 5
}
